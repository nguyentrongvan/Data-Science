{
 "cells": [
  {
   "cell_type": "code",
   "execution_count": 1,
   "metadata": {
    "id": "7txoCSLtbkaG"
   },
   "outputs": [],
   "source": [
    "from requests_html import HTMLSession,HTML\n",
    "import requests\n",
    "import pandas as pd \n",
    "from selenium import webdriver "
   ]
  },
  {
   "cell_type": "code",
   "execution_count": 2,
   "metadata": {
    "id": "_jbcSjG-96b4"
   },
   "outputs": [],
   "source": [
    "def RunScript(link):\n",
    "    browser = webdriver.Chrome(executable_path='./chromedriver')\n",
    "    browser.get(link)\n",
    "    page = HTML(html=browser.page_source)\n",
    "    return page,browser"
   ]
  },
  {
   "cell_type": "markdown",
   "metadata": {
    "id": "piIpLDhg-CsL"
   },
   "source": [
    "# Get links"
   ]
  },
  {
   "cell_type": "markdown",
   "metadata": {
    "id": "K4m1q1Id_a_X"
   },
   "source": [
    "#### Duyệt qua từng quận, với mỗi quận lấy tất cả tin mua/bán ở quận đó (tối đa 3000 tin / quận )"
   ]
  },
  {
   "cell_type": "code",
   "execution_count": null,
   "metadata": {
    "id": "xoGdkG_s-EeV"
   },
   "outputs": [],
   "source": [
    "district = ['quan-1','quan-2','quan-3','quan-4','quan-5','quan-6','quan-7','quan-8','quan-9','quan-10','quan-11','quan-12',\n",
    "            'quan-binh-tan','quan-binh-thanh','quan-go-vap','quan-phu-nhuan','quan-phu-nhuan','quan-tan-binh','quan-tan-phu','quan-thu-duc']\n",
    "files = []\n",
    "\n",
    "for dist in district:\n",
    "    link = 'https://nha.chotot.com/tp-ho-chi-minh/'+dist+'/mua-ban-nha-dat?page='\n",
    "    num_page = 0\n",
    "    links = []\n",
    "\n",
    "    while len(links) < 3:\n",
    "        num_page += 1\n",
    "        new_link = link + str(num_page)\n",
    "        page, browser = RunScript(new_link)\n",
    "\n",
    "        # get all items in current page\n",
    "        items = browser.find_elements_by_css_selector('.wrapperAdItem___2woJ1>a')\n",
    "        for item in items:\n",
    "            # get item element link\n",
    "            item_link = item.get_attribute('href')\n",
    "            links.append(item_link)\n",
    "        print(len(links))\n",
    "\n",
    "    # write to file and save the file name\n",
    "    file_name = dist +'.txt'\n",
    "    file = open(file_name,'w')\n",
    "    for i in links:\n",
    "        file.write(i+'\\n')\n",
    "    file.close()\n",
    "    \n",
    "    files.append(file_name)"
   ]
  },
  {
   "cell_type": "markdown",
   "metadata": {
    "id": "mUbqfMt1-QKn"
   },
   "source": [
    "# Get data from links\n"
   ]
  },
  {
   "cell_type": "markdown",
   "metadata": {
    "id": "ROkx7HI__Dw7"
   },
   "source": [
    "##### Function:\n",
    "+ input: link dẫn đến một tin mua/bán nhà/đất trên chotot.vn\n",
    "+ output: các trường thông tin có được từ tin tức đó "
   ]
  },
  {
   "cell_type": "code",
   "execution_count": null,
   "metadata": {
    "id": "tE7wojDc-Q1u"
   },
   "outputs": [],
   "source": [
    "def GetInformation(link):\n",
    "    session = HTMLSession()\n",
    "    r = session.get(link)\n",
    "    try:\n",
    "        price_square = r.html.find('.price___2UkjD')[0].text\n",
    "    except:\n",
    "        price_square = ''\n",
    "        print(link)\n",
    "        print('price_square')\n",
    "    try:\n",
    "        title = r.html.find('.adTilte___3UqYW')[0].text\n",
    "    except:\n",
    "        title = ''\n",
    "        print(link)\n",
    "        print('title')\n",
    "    try:\n",
    "        address = r.html.find('.fz13')[0].text\n",
    "    except:\n",
    "        address = ''\n",
    "        print(link)\n",
    "        print('address')\n",
    "    \n",
    "    project_name = []\n",
    "    apartment_code = []\n",
    "    block_name = []\n",
    "    block_code = []\n",
    "    square = []\n",
    "    square_area = []\n",
    "    square_in_use = []\n",
    "    bedroom = []\n",
    "    wc = []\n",
    "    num_floor = []\n",
    "    floor = []\n",
    "    width = []\n",
    "    height = []\n",
    "    door = []\n",
    "    balcony = [] \n",
    "    certificates = []\n",
    "    house_type = []\n",
    "    office_type = []\n",
    "    estate_type = []\n",
    "    apartment_type = []\n",
    "    status = []\n",
    "    furniture_status = []\n",
    "    estate_status = []\n",
    "    apartment_specific = []\n",
    "    house_specific = []\n",
    "    _type = []\n",
    "    price_m2 = []\n",
    "    \n",
    "    info = r.html.find('.media-middle>span>span')\n",
    "    for i in range(0,len(info),2):\n",
    "        label = info[i].text\n",
    "        content = info[i+1].text\n",
    "\n",
    "        if label == \"Dự Án:\":\n",
    "            project_name = content\n",
    "        elif label == \"Mã căn / Mã căn hộ:\":\n",
    "            apartment_code = content\n",
    "        elif label == \"Tên phân khu/Lô/Block/Tháp:\":\n",
    "            block_name = content\n",
    "        elif label == \"Mã lô:\":\n",
    "            block_code = content \n",
    "        elif (label == \"Diện tích:\"):\n",
    "            square = content\n",
    "        elif label == \"Diện tích đất:\":\n",
    "            square_area = content\n",
    "        elif (label == \"Diện tích sử dụng:\"):\n",
    "            square_in_use = content\n",
    "        elif label == \"Số phòng ngủ:\":\n",
    "            bedroom = content\n",
    "        elif label == \"Số phòng vệ sinh:\":\n",
    "            wc = content\n",
    "        elif label == \"Tổng số tầng:\":\n",
    "            num_floor = content\n",
    "        elif label == \"Tầng số:\":\n",
    "            floor = content\n",
    "        elif label == \"Chiều ngang:\":\n",
    "            width = content\n",
    "        elif label == \"Chiều dài:\":\n",
    "            height = content\n",
    "        elif label == \"Hướng cửa chính:\":\n",
    "            door.append(content)\n",
    "        elif label == \"Hướng ban công:\":\n",
    "            balcony.append(content)\n",
    "        elif label == \"Giấy tờ pháp lý:\":\n",
    "            certificates.append(content)\n",
    "        elif label == \"Loại hình nhà ở:\":\n",
    "            house_type.append(content)\n",
    "        elif label == \"Loại hình đất:\":\n",
    "            estate_type.append(content)\n",
    "        elif label == \"Loại hình văn phòng:\":\n",
    "            office_type.append(content)\n",
    "        elif label == \"Loại hình căn hộ:\":\n",
    "            apartment_type.append(content)  \n",
    "        elif label == \"Tình trạng:\":\n",
    "            status = content\n",
    "        elif label == \"Tình trạng nội thất:\":\n",
    "            furniture_status.append(content)\n",
    "        elif label == \"Tình trạng bất động sản:\":\n",
    "            estate_status.append(content)\n",
    "        elif label == \"Đặc điểm căn hộ:\":\n",
    "            apartment_specific.append(content)\n",
    "        elif label == \"Đặc điểm nhà/đất:\":\n",
    "            house_specific.append(content)\n",
    "        elif label == '':\n",
    "            _type.append(content)\n",
    "        elif label == \"Giá/m2:\":\n",
    "            price_m2 = content\n",
    "        else:\n",
    "            print(label,content)\n",
    "            print(link)\n",
    "            input()\n",
    "    return [title, address,project_name,apartment_code,block_name,block_code,square,square_area,square_in_use,bedroom,wc,num_floor,floor,\n",
    "           width,height,door,balcony,certificates,house_type,estate_type,office_type,apartment_type,status,furniture_status,estate_status,\n",
    "           apartment_specific,house_specific,_type,price_m2,price_square]"
   ]
  },
  {
   "cell_type": "markdown",
   "metadata": {
    "id": "PR3nlJwO-wa4"
   },
   "source": [
    "#### Duyệt qua từng file, đọc các link, lấy dữ liệu và xuất ra file csv"
   ]
  },
  {
   "cell_type": "code",
   "execution_count": null,
   "metadata": {
    "id": "fXR3TVTr-U-F"
   },
   "outputs": [],
   "source": [
    "for name in files:\n",
    "    file = open(name,'r')\n",
    "    links = file.readlines()\n",
    "    file.close()\n",
    "    \n",
    "    result = []\n",
    "    count = 1\n",
    "    for l in links:\n",
    "        print(count)\n",
    "        l = l[0:-1]\n",
    "        info = GetInformation(l)\n",
    "        result.append(info)\n",
    "        count += 1\n",
    "    \n",
    "    result_data = pd.DataFrame(columns=('title','address','project_name','apartment_code','block_name','block_code','square','square_area','square_in_use','bedroom','wc','num_floor','floor',\n",
    "           'width','height','door','balcony','certificates','house_type','estate_type','office_type','apartment_type','status','furniture_status','estate_status',\n",
    "           'apartment_specific','house_specific','_type','price_m2','price_square'))\n",
    "    for i in range(len(result)):\n",
    "        result_data.loc[i] = result[i]\n",
    "    \n",
    "    # write to file .csv\n",
    "    csv_name = name[:-3] + 'csv'\n",
    "    result_data.to_csv(csv_name)"
   ]
  }
 ],
 "metadata": {
  "colab": {
   "collapsed_sections": [],
   "name": "Crawl data from Chotot.vn",
   "provenance": []
  },
  "kernelspec": {
   "display_name": "Python 3",
   "language": "python",
   "name": "python3"
  },
  "language_info": {
   "codemirror_mode": {
    "name": "ipython",
    "version": 3
   },
   "file_extension": ".py",
   "mimetype": "text/x-python",
   "name": "python",
   "nbconvert_exporter": "python",
   "pygments_lexer": "ipython3",
   "version": "3.7.6"
  }
 },
 "nbformat": 4,
 "nbformat_minor": 4
}
